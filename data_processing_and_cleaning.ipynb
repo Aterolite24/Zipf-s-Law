{
  "nbformat": 4,
  "nbformat_minor": 0,
  "metadata": {
    "colab": {
      "provenance": []
    },
    "kernelspec": {
      "name": "python3",
      "display_name": "Python 3"
    },
    "language_info": {
      "name": "python"
    }
  },
  "cells": [
    {
      "cell_type": "code",
      "execution_count": 1,
      "metadata": {
        "id": "udngyjQ6SKw3"
      },
      "outputs": [],
      "source": [
        "import re\n",
        "import os"
      ]
    },
    {
      "cell_type": "markdown",
      "source": [
        "### For English and Hindi Dataset"
      ],
      "metadata": {
        "id": "7oMtkZDoS3MA"
      }
    },
    {
      "cell_type": "code",
      "source": [
        "def clean_text(text):\n",
        "    pattern = r'[^\\u0900-\\u097Fa-zA-Z\\s]'\n",
        "    cleaned_text = re.sub(pattern, '', text)\n",
        "    cleaned_text = re.sub(r'\\s+', ' ', cleaned_text).strip()\n",
        "    return str.lower(cleaned_text)"
      ],
      "metadata": {
        "id": "Y-sPI1lPTJXP"
      },
      "execution_count": 6,
      "outputs": []
    },
    {
      "cell_type": "code",
      "source": [
        "english_uncleaned_file = \"english_uncleaned_dataset.txt\"\n",
        "english_outfile_file = \"english_dataset.txt\"\n",
        "\n",
        "indian_language_uncleaned_file = \"indian_language_uncleaned_dataset.txt\"\n",
        "indian_language_outfile_file = \"indian_language_dataset.txt\"\n",
        "\n",
        "with open(english_uncleaned_file, 'r', encoding='utf-8') as infile:\n",
        "    with open(english_outfile_file, 'w', encoding='utf-8') as outfile:\n",
        "        outfile.write(clean_text(infile.read()))\n",
        "\n",
        "with open(indian_language_uncleaned_file, 'r', encoding='utf-8') as infile:\n",
        "    with open(indian_language_outfile_file, 'w', encoding='utf-8') as outfile:\n",
        "        outfile.write(clean_text(infile.read()))"
      ],
      "metadata": {
        "id": "r1qjAfzYTP6f"
      },
      "execution_count": 7,
      "outputs": []
    },
    {
      "cell_type": "markdown",
      "source": [
        "### For Marathi Dataset"
      ],
      "metadata": {
        "id": "Y054tsldSpwK"
      }
    },
    {
      "cell_type": "code",
      "source": [
        "def extract_sentences(input_dir, output_file):\n",
        "    \"\"\"\n",
        "    Traverse the directory, read all .txt files, and write their content into a single .txt file.\n",
        "\n",
        "    Args:\n",
        "    - input_dir: Root directory containing the year folders.\n",
        "    - output_file: Path to the output file where sentences will be saved.\n",
        "    \"\"\"\n",
        "    with open(output_file, 'w', encoding='utf-8') as outfile:\n",
        "        for root, dirs, files in os.walk(input_dir):\n",
        "            for file in files:\n",
        "                if file.endswith('.cms.txt'):\n",
        "                    file_path = os.path.join(root, file)\n",
        "                    try:\n",
        "                        with open(file_path, 'r', encoding='utf-8') as infile:\n",
        "                            content = infile.read()\n",
        "                            outfile.write(content + '\\n')\n",
        "                    except Exception as e:\n",
        "                        print(f\"Error reading {file_path}: {e}\")\n",
        "\n",
        "input_directory = 'Downloads/MarathiData'\n",
        "output_filepath = 'Downloads/MarathiData/output.txt'\n",
        "\n",
        "extract_sentences(input_directory, output_filepath)"
      ],
      "metadata": {
        "id": "vPB0-LYqScE9"
      },
      "execution_count": 13,
      "outputs": []
    },
    {
      "cell_type": "code",
      "source": [
        "def clean_tags(input_file, output_file):\n",
        "    \"\"\"\n",
        "    Remove specified tags from the input file and write the cleaned content to the output file.\n",
        "\n",
        "    Args:\n",
        "    - input_file: Path to the input file.\n",
        "    - output_file: Path to the output file.\n",
        "    \"\"\"\n",
        "    with open(input_file, 'r', encoding='utf-8') as infile, open(output_file, 'w', encoding='utf-8') as outfile:\n",
        "        for line in infile:\n",
        "            # Remove the specified tags\n",
        "            line = re.sub(r'</?(doc|text)>', '', line)  # Remove <doc>, </doc>, <text>, </text>\n",
        "            line = re.sub(r'<docno>.*?</docno>', '', line)  # Remove <docno>...</docno>\n",
        "            # Write the cleaned line if it's not empty after stripping\n",
        "            if line.strip():\n",
        "                outfile.write(line)\n",
        "\n",
        "input_filepath = \"Downloads/MarathiData/output.txt\"\n",
        "output_filepath = \"Downloads/MarathiData/output_no_tags.txt\"\n",
        "\n",
        "clean_tags(input_filepath, output_filepath)"
      ],
      "metadata": {
        "id": "zCflK9plSody"
      },
      "execution_count": 17,
      "outputs": []
    },
    {
      "cell_type": "code",
      "source": [
        "def clean_and_convert_to_single_line(input_file, output_file):\n",
        "    \"\"\"\n",
        "    Remove all datetime strings and convert the document to a single line.\n",
        "\n",
        "    Args:\n",
        "    - input_file: Path to the input file.\n",
        "    - output_file: Path to the output file.\n",
        "    \"\"\"\n",
        "    # Regular expression for matching datetime strings\n",
        "    datetime_pattern = r'\\[\\s*[A-Za-z]+,\\s+[A-Za-z]+\\s+\\d{1,2},\\s+\\d{4}\\s+\\d{2}:\\d{2}:\\d{2}\\s+[apAP][mM]\\s*\\]'\n",
        "\n",
        "    with open(input_file, 'r', encoding='utf-8') as infile:\n",
        "        content = infile.read()\n",
        "        # Remove datetime strings\n",
        "        content = re.sub(datetime_pattern, '', content)\n",
        "        # Convert to single line by replacing newlines with a space\n",
        "        single_line_content = ' '.join(content.split())\n",
        "\n",
        "    with open(output_file, 'w', encoding='utf-8') as outfile:\n",
        "        outfile.write(single_line_content)\n",
        "\n",
        "input_filepath = \"Downloads/MarathiData/output_no_tags.txt\"\n",
        "output_filepath = \"Downloads/MarathiData/output_cleaned.txt\"\n",
        "\n",
        "clean_and_convert_to_single_line(input_filepath, output_filepath)"
      ],
      "metadata": {
        "id": "35kDJXVaSxBr"
      },
      "execution_count": null,
      "outputs": []
    },
    {
      "cell_type": "code",
      "source": [
        "def remove_punctuation_and_normalize(input_file, output_file):\n",
        "    \"\"\"\n",
        "    Remove all punctuation (including Marathi punctuation) and normalize the text\n",
        "    such that each word is followed by a single space.\n",
        "\n",
        "    Args:\n",
        "    - input_file: Path to the input file.\n",
        "    - output_file: Path to the output file.\n",
        "    \"\"\"\n",
        "    # Regular expression for matching punctuation (including Marathi punctuation)\n",
        "    punctuation_pattern = r'[।!?.,:;\\'\"()\\[\\]{}॥]+'\n",
        "\n",
        "    with open(input_file, 'r', encoding='utf-8') as infile:\n",
        "        content = infile.read()\n",
        "        # Remove punctuation\n",
        "        content = re.sub(punctuation_pattern, '', content)\n",
        "        # Normalize spaces\n",
        "        normalized_content = ' '.join(content.split())\n",
        "\n",
        "    with open(output_file, 'w', encoding='utf-8') as outfile:\n",
        "        outfile.write(normalized_content)\n",
        "\n",
        "input_filepath = \"Downloads/MarathiData/output_cleaned.txt\"\n",
        "output_filepath = \"Downloads/MarathiData/marathi_dataset.txt\"\n",
        "\n",
        "remove_punctuation_and_normalize(input_filepath, output_filepath)"
      ],
      "metadata": {
        "id": "o0YFqClrSzAE"
      },
      "execution_count": 15,
      "outputs": []
    }
  ]
}
